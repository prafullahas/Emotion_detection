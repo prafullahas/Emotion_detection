{
  "nbformat": 4,
  "nbformat_minor": 0,
  "metadata": {
    "colab": {
      "provenance": [],
      "gpuType": "T4",
      "authorship_tag": "ABX9TyO9Llcza3KzVVE2xuWAeTh1",
      "include_colab_link": true
    },
    "kernelspec": {
      "name": "python3",
      "display_name": "Python 3"
    },
    "language_info": {
      "name": "python"
    },
    "accelerator": "GPU"
  },
  "cells": [
    {
      "cell_type": "markdown",
      "metadata": {
        "id": "view-in-github",
        "colab_type": "text"
      },
      "source": [
        "<a href=\"https://colab.research.google.com/github/prafullahas/Emotion_detection/blob/main/Untitled0.ipynb\" target=\"_parent\"><img src=\"https://colab.research.google.com/assets/colab-badge.svg\" alt=\"Open In Colab\"/></a>"
      ]
    },
    {
      "cell_type": "code",
      "execution_count": null,
      "metadata": {
        "colab": {
          "base_uri": "https://localhost:8080/",
          "height": 73
        },
        "id": "TtQ6ujyPSJOp",
        "outputId": "4047e52b-b74d-45f7-9409-1b2fa34e559f"
      },
      "outputs": [
        {
          "output_type": "display_data",
          "data": {
            "text/plain": [
              "<IPython.core.display.HTML object>"
            ],
            "text/html": [
              "\n",
              "     <input type=\"file\" id=\"files-20ecf8ff-cc53-4aa5-ad51-937ea197d6a2\" name=\"files[]\" multiple disabled\n",
              "        style=\"border:none\" />\n",
              "     <output id=\"result-20ecf8ff-cc53-4aa5-ad51-937ea197d6a2\">\n",
              "      Upload widget is only available when the cell has been executed in the\n",
              "      current browser session. Please rerun this cell to enable.\n",
              "      </output>\n",
              "      <script>// Copyright 2017 Google LLC\n",
              "//\n",
              "// Licensed under the Apache License, Version 2.0 (the \"License\");\n",
              "// you may not use this file except in compliance with the License.\n",
              "// You may obtain a copy of the License at\n",
              "//\n",
              "//      http://www.apache.org/licenses/LICENSE-2.0\n",
              "//\n",
              "// Unless required by applicable law or agreed to in writing, software\n",
              "// distributed under the License is distributed on an \"AS IS\" BASIS,\n",
              "// WITHOUT WARRANTIES OR CONDITIONS OF ANY KIND, either express or implied.\n",
              "// See the License for the specific language governing permissions and\n",
              "// limitations under the License.\n",
              "\n",
              "/**\n",
              " * @fileoverview Helpers for google.colab Python module.\n",
              " */\n",
              "(function(scope) {\n",
              "function span(text, styleAttributes = {}) {\n",
              "  const element = document.createElement('span');\n",
              "  element.textContent = text;\n",
              "  for (const key of Object.keys(styleAttributes)) {\n",
              "    element.style[key] = styleAttributes[key];\n",
              "  }\n",
              "  return element;\n",
              "}\n",
              "\n",
              "// Max number of bytes which will be uploaded at a time.\n",
              "const MAX_PAYLOAD_SIZE = 100 * 1024;\n",
              "\n",
              "function _uploadFiles(inputId, outputId) {\n",
              "  const steps = uploadFilesStep(inputId, outputId);\n",
              "  const outputElement = document.getElementById(outputId);\n",
              "  // Cache steps on the outputElement to make it available for the next call\n",
              "  // to uploadFilesContinue from Python.\n",
              "  outputElement.steps = steps;\n",
              "\n",
              "  return _uploadFilesContinue(outputId);\n",
              "}\n",
              "\n",
              "// This is roughly an async generator (not supported in the browser yet),\n",
              "// where there are multiple asynchronous steps and the Python side is going\n",
              "// to poll for completion of each step.\n",
              "// This uses a Promise to block the python side on completion of each step,\n",
              "// then passes the result of the previous step as the input to the next step.\n",
              "function _uploadFilesContinue(outputId) {\n",
              "  const outputElement = document.getElementById(outputId);\n",
              "  const steps = outputElement.steps;\n",
              "\n",
              "  const next = steps.next(outputElement.lastPromiseValue);\n",
              "  return Promise.resolve(next.value.promise).then((value) => {\n",
              "    // Cache the last promise value to make it available to the next\n",
              "    // step of the generator.\n",
              "    outputElement.lastPromiseValue = value;\n",
              "    return next.value.response;\n",
              "  });\n",
              "}\n",
              "\n",
              "/**\n",
              " * Generator function which is called between each async step of the upload\n",
              " * process.\n",
              " * @param {string} inputId Element ID of the input file picker element.\n",
              " * @param {string} outputId Element ID of the output display.\n",
              " * @return {!Iterable<!Object>} Iterable of next steps.\n",
              " */\n",
              "function* uploadFilesStep(inputId, outputId) {\n",
              "  const inputElement = document.getElementById(inputId);\n",
              "  inputElement.disabled = false;\n",
              "\n",
              "  const outputElement = document.getElementById(outputId);\n",
              "  outputElement.innerHTML = '';\n",
              "\n",
              "  const pickedPromise = new Promise((resolve) => {\n",
              "    inputElement.addEventListener('change', (e) => {\n",
              "      resolve(e.target.files);\n",
              "    });\n",
              "  });\n",
              "\n",
              "  const cancel = document.createElement('button');\n",
              "  inputElement.parentElement.appendChild(cancel);\n",
              "  cancel.textContent = 'Cancel upload';\n",
              "  const cancelPromise = new Promise((resolve) => {\n",
              "    cancel.onclick = () => {\n",
              "      resolve(null);\n",
              "    };\n",
              "  });\n",
              "\n",
              "  // Wait for the user to pick the files.\n",
              "  const files = yield {\n",
              "    promise: Promise.race([pickedPromise, cancelPromise]),\n",
              "    response: {\n",
              "      action: 'starting',\n",
              "    }\n",
              "  };\n",
              "\n",
              "  cancel.remove();\n",
              "\n",
              "  // Disable the input element since further picks are not allowed.\n",
              "  inputElement.disabled = true;\n",
              "\n",
              "  if (!files) {\n",
              "    return {\n",
              "      response: {\n",
              "        action: 'complete',\n",
              "      }\n",
              "    };\n",
              "  }\n",
              "\n",
              "  for (const file of files) {\n",
              "    const li = document.createElement('li');\n",
              "    li.append(span(file.name, {fontWeight: 'bold'}));\n",
              "    li.append(span(\n",
              "        `(${file.type || 'n/a'}) - ${file.size} bytes, ` +\n",
              "        `last modified: ${\n",
              "            file.lastModifiedDate ? file.lastModifiedDate.toLocaleDateString() :\n",
              "                                    'n/a'} - `));\n",
              "    const percent = span('0% done');\n",
              "    li.appendChild(percent);\n",
              "\n",
              "    outputElement.appendChild(li);\n",
              "\n",
              "    const fileDataPromise = new Promise((resolve) => {\n",
              "      const reader = new FileReader();\n",
              "      reader.onload = (e) => {\n",
              "        resolve(e.target.result);\n",
              "      };\n",
              "      reader.readAsArrayBuffer(file);\n",
              "    });\n",
              "    // Wait for the data to be ready.\n",
              "    let fileData = yield {\n",
              "      promise: fileDataPromise,\n",
              "      response: {\n",
              "        action: 'continue',\n",
              "      }\n",
              "    };\n",
              "\n",
              "    // Use a chunked sending to avoid message size limits. See b/62115660.\n",
              "    let position = 0;\n",
              "    do {\n",
              "      const length = Math.min(fileData.byteLength - position, MAX_PAYLOAD_SIZE);\n",
              "      const chunk = new Uint8Array(fileData, position, length);\n",
              "      position += length;\n",
              "\n",
              "      const base64 = btoa(String.fromCharCode.apply(null, chunk));\n",
              "      yield {\n",
              "        response: {\n",
              "          action: 'append',\n",
              "          file: file.name,\n",
              "          data: base64,\n",
              "        },\n",
              "      };\n",
              "\n",
              "      let percentDone = fileData.byteLength === 0 ?\n",
              "          100 :\n",
              "          Math.round((position / fileData.byteLength) * 100);\n",
              "      percent.textContent = `${percentDone}% done`;\n",
              "\n",
              "    } while (position < fileData.byteLength);\n",
              "  }\n",
              "\n",
              "  // All done.\n",
              "  yield {\n",
              "    response: {\n",
              "      action: 'complete',\n",
              "    }\n",
              "  };\n",
              "}\n",
              "\n",
              "scope.google = scope.google || {};\n",
              "scope.google.colab = scope.google.colab || {};\n",
              "scope.google.colab._files = {\n",
              "  _uploadFiles,\n",
              "  _uploadFilesContinue,\n",
              "};\n",
              "})(self);\n",
              "</script> "
            ]
          },
          "metadata": {}
        },
        {
          "output_type": "stream",
          "name": "stdout",
          "text": [
            "Saving archive (3).zip to archive (3).zip\n"
          ]
        }
      ],
      "source": [
        "from google.colab import files\n",
        "uploaded = files.upload()"
      ]
    },
    {
      "cell_type": "code",
      "source": [
        "import os\n",
        "os.rename(\"archive (3).zip\", \"fer2013.zip\")\n",
        "\n",
        "import zipfile\n",
        "\n",
        "with zipfile.ZipFile(\"fer2013.zip\", 'r') as zip_ref:\n",
        "    zip_ref.extractall(\"fer2013\")\n",
        "\n",
        "os.listdir(\"fer2013\")"
      ],
      "metadata": {
        "colab": {
          "base_uri": "https://localhost:8080/"
        },
        "id": "qkrqS6W9S_jH",
        "outputId": "61dc9ef3-7dae-4632-f379-b9080db5cb2a"
      },
      "execution_count": null,
      "outputs": [
        {
          "output_type": "execute_result",
          "data": {
            "text/plain": [
              "['test', 'train']"
            ]
          },
          "metadata": {},
          "execution_count": 5
        }
      ]
    },
    {
      "cell_type": "code",
      "source": [
        "import os\n",
        "import torch\n",
        "import torch.nn as nn\n",
        "import torch.nn.functional as F\n",
        "import torchvision.transforms as transforms\n",
        "from torchvision.datasets import ImageFolder\n",
        "from torch.utils.data import DataLoader\n",
        "from torchvision import models\n",
        "from sklearn.utils.class_weight import compute_class_weight\n",
        "import numpy as np\n",
        "from torch.optim.lr_scheduler import ReduceLROnPlateau\n",
        "import time"
      ],
      "metadata": {
        "id": "NLP2jF22VgBX"
      },
      "execution_count": null,
      "outputs": []
    },
    {
      "cell_type": "code",
      "source": [
        "train_transforms = transforms.Compose([\n",
        "    transforms.Grayscale(),\n",
        "    transforms.Resize((48, 48)),\n",
        "    transforms.RandomHorizontalFlip(),\n",
        "    transforms.RandomRotation(10),\n",
        "    transforms.ToTensor(),\n",
        "    transforms.Normalize((0.5,), (0.5,))\n",
        "])\n",
        "\n",
        "test_transforms = transforms.Compose([\n",
        "    transforms.Grayscale(),\n",
        "    transforms.Resize((48, 48)),\n",
        "    transforms.ToTensor(),\n",
        "    transforms.Normalize((0.5,), (0.5,))\n",
        "])"
      ],
      "metadata": {
        "id": "0bGfKaglWBKv"
      },
      "execution_count": null,
      "outputs": []
    },
    {
      "cell_type": "code",
      "source": [
        "train_dataset = ImageFolder(\"fer2013/train\", transform=train_transforms)\n",
        "test_dataset = ImageFolder(\"fer2013/test\", transform=test_transforms)\n",
        "\n",
        "train_loader = DataLoader(train_dataset, batch_size=64, shuffle=True)\n",
        "test_loader = DataLoader(test_dataset, batch_size=64, shuffle=False)\n"
      ],
      "metadata": {
        "id": "9aBKGSeWYHO3"
      },
      "execution_count": null,
      "outputs": []
    },
    {
      "cell_type": "code",
      "source": [
        "device = torch.device('cuda' if torch.cuda.is_available() else 'cpu')\n",
        "print(\"Using device:\", device)"
      ],
      "metadata": {
        "colab": {
          "base_uri": "https://localhost:8080/"
        },
        "id": "FDO2x_iWaXEm",
        "outputId": "e60ef894-2f8f-4aa2-fef3-e6cc35c2a30d"
      },
      "execution_count": null,
      "outputs": [
        {
          "output_type": "stream",
          "name": "stdout",
          "text": [
            "Using device: cuda\n"
          ]
        }
      ]
    },
    {
      "cell_type": "code",
      "source": [
        "class_weights = compute_class_weight(class_weight='balanced',\n",
        "                                     classes=np.unique(train_dataset.targets),\n",
        "                                     y=train_dataset.targets)\n",
        "class_weights = torch.tensor(class_weights, dtype=torch.float).to(device)\n"
      ],
      "metadata": {
        "id": "wq8Cv2QNX62j"
      },
      "execution_count": null,
      "outputs": []
    },
    {
      "cell_type": "code",
      "source": [
        "class DeepEmotionCNN(nn.Module):\n",
        "    def __init__(self):\n",
        "        super(DeepEmotionCNN, self).__init__()\n",
        "        self.conv1 = nn.Sequential(\n",
        "            nn.Conv2d(1, 32, 3, padding=1),\n",
        "            nn.BatchNorm2d(32),\n",
        "            nn.ReLU(),\n",
        "            nn.MaxPool2d(2)\n",
        "        )\n",
        "        self.conv2 = nn.Sequential(\n",
        "            nn.Conv2d(32, 64, 3, padding=1),\n",
        "            nn.BatchNorm2d(64),\n",
        "            nn.ReLU(),\n",
        "            nn.MaxPool2d(2)\n",
        "        )\n",
        "        self.conv3 = nn.Sequential(\n",
        "            nn.Conv2d(64, 128, 3, padding=1),\n",
        "            nn.BatchNorm2d(128),\n",
        "            nn.ReLU(),\n",
        "            nn.MaxPool2d(2)\n",
        "        )\n",
        "        self.conv4 = nn.Sequential(\n",
        "            nn.Conv2d(128, 256, 3, padding=1),\n",
        "            nn.BatchNorm2d(256),\n",
        "            nn.ReLU(),\n",
        "            nn.MaxPool2d(2)\n",
        "        )\n",
        "        self.dropout = nn.Dropout(0.5)\n",
        "        self.fc1 = nn.Linear(256 * 3 * 3, 512)\n",
        "        self.fc2 = nn.Linear(512, 7)\n",
        "\n",
        "    def forward(self, x):\n",
        "        x = self.conv1(x)\n",
        "        x = self.conv2(x)\n",
        "        x = self.conv3(x)\n",
        "        x = self.conv4(x)\n",
        "        x = x.view(-1, 256 * 3 * 3)\n",
        "        x = self.dropout(F.relu(self.fc1(x)))\n",
        "        x = self.fc2(x)\n",
        "        return x\n",
        "\n",
        "model = DeepEmotionCNN().to(device)"
      ],
      "metadata": {
        "id": "st192cIfabWK"
      },
      "execution_count": null,
      "outputs": []
    },
    {
      "cell_type": "code",
      "source": [
        "criterion = nn.CrossEntropyLoss(weight=class_weights)\n",
        "optimizer = torch.optim.Adam(model.parameters(), lr=0.0001, weight_decay=1e-5)\n",
        "scheduler = ReduceLROnPlateau(optimizer, 'min', patience=2, factor=0.5)"
      ],
      "metadata": {
        "id": "0pOW3v0XZO8Q"
      },
      "execution_count": null,
      "outputs": []
    },
    {
      "cell_type": "code",
      "source": [
        "epochs = 50\n",
        "start_time = time.time()\n",
        "\n",
        "for epoch in range(epochs):\n",
        "    model.train()\n",
        "    running_loss = 0.0\n",
        "    correct = 0\n",
        "    total = 0\n",
        "\n",
        "    for images, labels in train_loader:\n",
        "        images, labels = images.to(device), labels.to(device)\n",
        "\n",
        "        optimizer.zero_grad()\n",
        "        outputs = model(images)\n",
        "        loss = criterion(outputs, labels)\n",
        "        loss.backward()\n",
        "        optimizer.step()\n",
        "\n",
        "        running_loss += loss.item()\n",
        "        _, predicted = torch.max(outputs.data, 1)\n",
        "        total += labels.size(0)\n",
        "        correct += (predicted == labels).sum().item()\n",
        "\n",
        "    train_accuracy = 100 * correct / total\n",
        "    scheduler.step(running_loss)\n",
        "\n",
        "    print(f\"Epoch {epoch+1}/{epochs} | Loss: {running_loss:.4f} | Train Accuracy: {train_accuracy:.2f}%\")\n",
        "\n",
        "print(\"✅ Total Training Time:\", round(time.time() - start_time, 2), \"seconds\")\n"
      ],
      "metadata": {
        "colab": {
          "base_uri": "https://localhost:8080/"
        },
        "id": "HRbgOK5Dagux",
        "outputId": "f6c98e85-78e0-4437-f7ec-b955f5d66d20"
      },
      "execution_count": null,
      "outputs": [
        {
          "output_type": "stream",
          "name": "stdout",
          "text": [
            "Epoch 1/50 | Loss: 418.1980 | Train Accuracy: 62.15%\n",
            "Epoch 2/50 | Loss: 410.1275 | Train Accuracy: 62.94%\n",
            "Epoch 3/50 | Loss: 410.8728 | Train Accuracy: 63.08%\n",
            "Epoch 4/50 | Loss: 400.7878 | Train Accuracy: 63.55%\n",
            "Epoch 5/50 | Loss: 404.8399 | Train Accuracy: 63.57%\n",
            "Epoch 6/50 | Loss: 401.3795 | Train Accuracy: 64.12%\n",
            "Epoch 7/50 | Loss: 390.0939 | Train Accuracy: 64.66%\n",
            "Epoch 8/50 | Loss: 387.3603 | Train Accuracy: 64.49%\n",
            "Epoch 9/50 | Loss: 384.1570 | Train Accuracy: 65.23%\n",
            "Epoch 10/50 | Loss: 375.3871 | Train Accuracy: 65.86%\n",
            "Epoch 11/50 | Loss: 376.3151 | Train Accuracy: 65.86%\n",
            "Epoch 12/50 | Loss: 372.7268 | Train Accuracy: 66.12%\n",
            "Epoch 13/50 | Loss: 369.5923 | Train Accuracy: 65.95%\n",
            "Epoch 14/50 | Loss: 366.5431 | Train Accuracy: 66.65%\n",
            "Epoch 15/50 | Loss: 359.9649 | Train Accuracy: 67.41%\n",
            "Epoch 16/50 | Loss: 353.3907 | Train Accuracy: 67.80%\n",
            "Epoch 17/50 | Loss: 354.4199 | Train Accuracy: 67.96%\n",
            "Epoch 18/50 | Loss: 344.1141 | Train Accuracy: 68.39%\n",
            "Epoch 19/50 | Loss: 349.6374 | Train Accuracy: 68.16%\n",
            "Epoch 20/50 | Loss: 340.7952 | Train Accuracy: 68.62%\n",
            "Epoch 21/50 | Loss: 342.5016 | Train Accuracy: 68.83%\n",
            "Epoch 22/50 | Loss: 333.4944 | Train Accuracy: 69.24%\n",
            "Epoch 23/50 | Loss: 331.3072 | Train Accuracy: 69.95%\n",
            "Epoch 24/50 | Loss: 324.1229 | Train Accuracy: 70.31%\n",
            "Epoch 25/50 | Loss: 323.7512 | Train Accuracy: 70.36%\n",
            "Epoch 26/50 | Loss: 321.9424 | Train Accuracy: 70.64%\n",
            "Epoch 27/50 | Loss: 316.5425 | Train Accuracy: 71.02%\n",
            "Epoch 28/50 | Loss: 313.5783 | Train Accuracy: 71.32%\n",
            "Epoch 29/50 | Loss: 312.4064 | Train Accuracy: 71.61%\n",
            "Epoch 30/50 | Loss: 306.0117 | Train Accuracy: 71.80%\n",
            "Epoch 31/50 | Loss: 303.9536 | Train Accuracy: 71.91%\n",
            "Epoch 32/50 | Loss: 301.4937 | Train Accuracy: 72.20%\n",
            "Epoch 33/50 | Loss: 290.8797 | Train Accuracy: 73.13%\n",
            "Epoch 34/50 | Loss: 297.2482 | Train Accuracy: 72.90%\n",
            "Epoch 35/50 | Loss: 293.6822 | Train Accuracy: 73.13%\n",
            "Epoch 36/50 | Loss: 290.3193 | Train Accuracy: 73.84%\n",
            "Epoch 37/50 | Loss: 286.4273 | Train Accuracy: 73.70%\n",
            "Epoch 38/50 | Loss: 282.4133 | Train Accuracy: 74.27%\n",
            "Epoch 39/50 | Loss: 279.8650 | Train Accuracy: 74.39%\n",
            "Epoch 40/50 | Loss: 274.7550 | Train Accuracy: 74.70%\n",
            "Epoch 41/50 | Loss: 272.4714 | Train Accuracy: 74.99%\n",
            "Epoch 42/50 | Loss: 269.5866 | Train Accuracy: 75.54%\n",
            "Epoch 43/50 | Loss: 265.9563 | Train Accuracy: 75.54%\n",
            "Epoch 44/50 | Loss: 264.7233 | Train Accuracy: 75.73%\n",
            "Epoch 45/50 | Loss: 264.4996 | Train Accuracy: 75.70%\n",
            "Epoch 46/50 | Loss: 257.6983 | Train Accuracy: 76.38%\n",
            "Epoch 47/50 | Loss: 257.7392 | Train Accuracy: 76.17%\n",
            "Epoch 48/50 | Loss: 252.4923 | Train Accuracy: 76.80%\n",
            "Epoch 49/50 | Loss: 253.5640 | Train Accuracy: 76.82%\n",
            "Epoch 50/50 | Loss: 247.9412 | Train Accuracy: 77.40%\n",
            "✅ Total Training Time: 1037.37 seconds\n"
          ]
        }
      ]
    },
    {
      "cell_type": "code",
      "source": [
        "model.eval()\n",
        "correct = 0\n",
        "total = 0\n",
        "\n",
        "with torch.no_grad():\n",
        "    for images, labels in test_loader:\n",
        "        images, labels = images.to(device), labels.to(device)\n",
        "        outputs = model(images)\n",
        "        _, predicted = torch.max(outputs.data, 1)\n",
        "        total += labels.size(0)\n",
        "        correct += (predicted == labels).sum().item()\n",
        "\n",
        "test_accuracy = 100 * correct / total\n",
        "print(f\"✅ Test Accuracy: {test_accuracy:.2f}%\")"
      ],
      "metadata": {
        "colab": {
          "base_uri": "https://localhost:8080/"
        },
        "id": "NhfEhq1JkD-H",
        "outputId": "97740a5e-7ec0-4464-cff5-919d7dd21b10"
      },
      "execution_count": null,
      "outputs": [
        {
          "output_type": "stream",
          "name": "stdout",
          "text": [
            "✅ Test Accuracy: 61.20%\n"
          ]
        }
      ]
    },
    {
      "cell_type": "code",
      "source": [
        "torch.save(model.state_dict(), \"emotion_cnn.pth\")"
      ],
      "metadata": {
        "id": "W26kMMyZn3jK"
      },
      "execution_count": null,
      "outputs": []
    },
    {
      "cell_type": "code",
      "source": [
        "!pip install Pillow"
      ],
      "metadata": {
        "colab": {
          "base_uri": "https://localhost:8080/"
        },
        "id": "0jV8dDr81J5j",
        "outputId": "38b76ce2-af20-4c29-cdd9-458347e1df00"
      },
      "execution_count": null,
      "outputs": [
        {
          "output_type": "stream",
          "name": "stdout",
          "text": [
            "Requirement already satisfied: Pillow in /usr/local/lib/python3.11/dist-packages (11.1.0)\n"
          ]
        }
      ]
    },
    {
      "cell_type": "code",
      "source": [
        "# # Use the same test transform from your training code\n",
        "# test_transforms = transforms.Compose([\n",
        "#     transforms.Grayscale(),\n",
        "#     transforms.Resize((48, 48)),\n",
        "#     transforms.ToTensor(),\n",
        "#     transforms.Normalize((0.5,), (0.5,))\n",
        "# ])\n",
        "\n",
        "# # Transform the image\n",
        "# input_image = test_transforms(img).unsqueeze(0).to(device)\n",
        "\n",
        "# # Make prediction\n",
        "# model.eval()\n",
        "# with torch.no_grad():\n",
        "#     output = model(input_image)\n",
        "#     predicted = torch.argmax(output, 1)\n",
        "\n",
        "# classes = ['Angry', 'Disgust', 'Fear', 'Happy', 'Neutral', 'Sad', 'Surprise']\n",
        "# print(\"🎭 Predicted Emotion:\", classes[predicted.item()])\n"
      ],
      "metadata": {
        "id": "qi19BD0l1QE2"
      },
      "execution_count": null,
      "outputs": []
    }
  ]
}